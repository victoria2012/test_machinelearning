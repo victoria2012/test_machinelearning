{
 "cells": [
  {
   "cell_type": "code",
   "execution_count": 1,
   "id": "af2bf90e",
   "metadata": {},
   "outputs": [],
   "source": [
    "import sklearn"
   ]
  },
  {
   "cell_type": "code",
   "execution_count": 2,
   "id": "0b780cf8",
   "metadata": {},
   "outputs": [],
   "source": [
    "%load_ext autoreload\n",
    "%autoreload 2"
   ]
  },
  {
   "cell_type": "code",
   "execution_count": 3,
   "id": "9f95be64",
   "metadata": {},
   "outputs": [],
   "source": [
    "import pandas as pd"
   ]
  },
  {
   "cell_type": "code",
   "execution_count": 4,
   "id": "8bc3aeaa",
   "metadata": {},
   "outputs": [
    {
     "name": "stdout",
     "output_type": "stream",
     "text": [
      " C 드라이브의 볼륨에는 이름이 없습니다.\n",
      " 볼륨 일련 번호: 647D-E8EF\n",
      "\n",
      " C:\\Develops\\test_machinelearning\\files 디렉터리\n",
      "\n",
      "2021-06-30  오후 04:38       109,348,477 train.csv\n",
      "               1개 파일         109,348,477 바이트\n",
      "               0개 디렉터리  12,518,375,424 바이트 남음\n"
     ]
    }
   ],
   "source": [
    "!dir .\\files\\train.csv"
   ]
  },
  {
   "cell_type": "code",
   "execution_count": 5,
   "id": "141643cf",
   "metadata": {},
   "outputs": [
    {
     "data": {
      "text/html": [
       "<div>\n",
       "<style scoped>\n",
       "    .dataframe tbody tr th:only-of-type {\n",
       "        vertical-align: middle;\n",
       "    }\n",
       "\n",
       "    .dataframe tbody tr th {\n",
       "        vertical-align: top;\n",
       "    }\n",
       "\n",
       "    .dataframe thead th {\n",
       "        text-align: right;\n",
       "    }\n",
       "</style>\n",
       "<table border=\"1\" class=\"dataframe\">\n",
       "  <thead>\n",
       "    <tr style=\"text-align: right;\">\n",
       "      <th></th>\n",
       "      <th>id</th>\n",
       "      <th>vendor_id</th>\n",
       "      <th>pickup_datetime</th>\n",
       "      <th>dropoff_datetime</th>\n",
       "      <th>passenger_count</th>\n",
       "      <th>pickup_longitude</th>\n",
       "      <th>pickup_latitude</th>\n",
       "      <th>dropoff_longitude</th>\n",
       "      <th>dropoff_latitude</th>\n",
       "      <th>store_and_fwd_flag</th>\n",
       "      <th>trip_duration</th>\n",
       "    </tr>\n",
       "  </thead>\n",
       "  <tbody>\n",
       "    <tr>\n",
       "      <th>0</th>\n",
       "      <td>id2875421</td>\n",
       "      <td>2</td>\n",
       "      <td>2016-03-14 17:24</td>\n",
       "      <td>2016-03-14 17:32</td>\n",
       "      <td>1</td>\n",
       "      <td>-73.982155</td>\n",
       "      <td>40.767937</td>\n",
       "      <td>-73.964630</td>\n",
       "      <td>40.765602</td>\n",
       "      <td>N</td>\n",
       "      <td>455</td>\n",
       "    </tr>\n",
       "    <tr>\n",
       "      <th>1</th>\n",
       "      <td>id2377394</td>\n",
       "      <td>1</td>\n",
       "      <td>2016-06-12 0:43</td>\n",
       "      <td>2016-06-12 0:54</td>\n",
       "      <td>1</td>\n",
       "      <td>-73.980415</td>\n",
       "      <td>40.738564</td>\n",
       "      <td>-73.999481</td>\n",
       "      <td>40.731152</td>\n",
       "      <td>N</td>\n",
       "      <td>663</td>\n",
       "    </tr>\n",
       "    <tr>\n",
       "      <th>2</th>\n",
       "      <td>id3858529</td>\n",
       "      <td>2</td>\n",
       "      <td>2016-01-19 11:35</td>\n",
       "      <td>2016-01-19 12:10</td>\n",
       "      <td>1</td>\n",
       "      <td>-73.979027</td>\n",
       "      <td>40.763939</td>\n",
       "      <td>-74.005333</td>\n",
       "      <td>40.710087</td>\n",
       "      <td>N</td>\n",
       "      <td>2124</td>\n",
       "    </tr>\n",
       "    <tr>\n",
       "      <th>3</th>\n",
       "      <td>id3504673</td>\n",
       "      <td>2</td>\n",
       "      <td>2016-04-06 19:32</td>\n",
       "      <td>2016-04-06 19:39</td>\n",
       "      <td>1</td>\n",
       "      <td>-74.010040</td>\n",
       "      <td>40.719971</td>\n",
       "      <td>-74.012268</td>\n",
       "      <td>40.706718</td>\n",
       "      <td>N</td>\n",
       "      <td>429</td>\n",
       "    </tr>\n",
       "    <tr>\n",
       "      <th>4</th>\n",
       "      <td>id2181028</td>\n",
       "      <td>2</td>\n",
       "      <td>2016-03-26 13:30</td>\n",
       "      <td>2016-03-26 13:38</td>\n",
       "      <td>1</td>\n",
       "      <td>-73.973053</td>\n",
       "      <td>40.793209</td>\n",
       "      <td>-73.972923</td>\n",
       "      <td>40.782520</td>\n",
       "      <td>N</td>\n",
       "      <td>435</td>\n",
       "    </tr>\n",
       "    <tr>\n",
       "      <th>...</th>\n",
       "      <td>...</td>\n",
       "      <td>...</td>\n",
       "      <td>...</td>\n",
       "      <td>...</td>\n",
       "      <td>...</td>\n",
       "      <td>...</td>\n",
       "      <td>...</td>\n",
       "      <td>...</td>\n",
       "      <td>...</td>\n",
       "      <td>...</td>\n",
       "      <td>...</td>\n",
       "    </tr>\n",
       "    <tr>\n",
       "      <th>1048570</th>\n",
       "      <td>id0002921</td>\n",
       "      <td>1</td>\n",
       "      <td>2016-04-06 14:16</td>\n",
       "      <td>2016-04-06 14:20</td>\n",
       "      <td>1</td>\n",
       "      <td>-73.973015</td>\n",
       "      <td>40.760948</td>\n",
       "      <td>-73.976387</td>\n",
       "      <td>40.755604</td>\n",
       "      <td>N</td>\n",
       "      <td>207</td>\n",
       "    </tr>\n",
       "    <tr>\n",
       "      <th>1048571</th>\n",
       "      <td>id1329189</td>\n",
       "      <td>2</td>\n",
       "      <td>2016-03-24 1:26</td>\n",
       "      <td>2016-03-24 1:38</td>\n",
       "      <td>1</td>\n",
       "      <td>-73.985550</td>\n",
       "      <td>40.727257</td>\n",
       "      <td>-73.957039</td>\n",
       "      <td>40.712387</td>\n",
       "      <td>N</td>\n",
       "      <td>740</td>\n",
       "    </tr>\n",
       "    <tr>\n",
       "      <th>1048572</th>\n",
       "      <td>id0408460</td>\n",
       "      <td>1</td>\n",
       "      <td>2016-02-23 16:38</td>\n",
       "      <td>2016-02-23 16:48</td>\n",
       "      <td>1</td>\n",
       "      <td>-73.972038</td>\n",
       "      <td>40.750202</td>\n",
       "      <td>-73.998360</td>\n",
       "      <td>40.733360</td>\n",
       "      <td>N</td>\n",
       "      <td>605</td>\n",
       "    </tr>\n",
       "    <tr>\n",
       "      <th>1048573</th>\n",
       "      <td>id0147762</td>\n",
       "      <td>1</td>\n",
       "      <td>2016-05-24 7:20</td>\n",
       "      <td>2016-05-24 7:25</td>\n",
       "      <td>1</td>\n",
       "      <td>-73.993332</td>\n",
       "      <td>40.724342</td>\n",
       "      <td>-74.004250</td>\n",
       "      <td>40.707470</td>\n",
       "      <td>N</td>\n",
       "      <td>287</td>\n",
       "    </tr>\n",
       "    <tr>\n",
       "      <th>1048574</th>\n",
       "      <td>id0859354</td>\n",
       "      <td>2</td>\n",
       "      <td>2016-03-15 22:00</td>\n",
       "      <td>2016-03-15 22:19</td>\n",
       "      <td>1</td>\n",
       "      <td>-73.988060</td>\n",
       "      <td>40.759548</td>\n",
       "      <td>-74.005585</td>\n",
       "      <td>40.711521</td>\n",
       "      <td>N</td>\n",
       "      <td>1169</td>\n",
       "    </tr>\n",
       "  </tbody>\n",
       "</table>\n",
       "<p>1048575 rows × 11 columns</p>\n",
       "</div>"
      ],
      "text/plain": [
       "                id  vendor_id   pickup_datetime  dropoff_datetime  \\\n",
       "0        id2875421          2  2016-03-14 17:24  2016-03-14 17:32   \n",
       "1        id2377394          1   2016-06-12 0:43   2016-06-12 0:54   \n",
       "2        id3858529          2  2016-01-19 11:35  2016-01-19 12:10   \n",
       "3        id3504673          2  2016-04-06 19:32  2016-04-06 19:39   \n",
       "4        id2181028          2  2016-03-26 13:30  2016-03-26 13:38   \n",
       "...            ...        ...               ...               ...   \n",
       "1048570  id0002921          1  2016-04-06 14:16  2016-04-06 14:20   \n",
       "1048571  id1329189          2   2016-03-24 1:26   2016-03-24 1:38   \n",
       "1048572  id0408460          1  2016-02-23 16:38  2016-02-23 16:48   \n",
       "1048573  id0147762          1   2016-05-24 7:20   2016-05-24 7:25   \n",
       "1048574  id0859354          2  2016-03-15 22:00  2016-03-15 22:19   \n",
       "\n",
       "         passenger_count  pickup_longitude  pickup_latitude  \\\n",
       "0                      1        -73.982155        40.767937   \n",
       "1                      1        -73.980415        40.738564   \n",
       "2                      1        -73.979027        40.763939   \n",
       "3                      1        -74.010040        40.719971   \n",
       "4                      1        -73.973053        40.793209   \n",
       "...                  ...               ...              ...   \n",
       "1048570                1        -73.973015        40.760948   \n",
       "1048571                1        -73.985550        40.727257   \n",
       "1048572                1        -73.972038        40.750202   \n",
       "1048573                1        -73.993332        40.724342   \n",
       "1048574                1        -73.988060        40.759548   \n",
       "\n",
       "         dropoff_longitude  dropoff_latitude store_and_fwd_flag  trip_duration  \n",
       "0               -73.964630         40.765602                  N            455  \n",
       "1               -73.999481         40.731152                  N            663  \n",
       "2               -74.005333         40.710087                  N           2124  \n",
       "3               -74.012268         40.706718                  N            429  \n",
       "4               -73.972923         40.782520                  N            435  \n",
       "...                    ...               ...                ...            ...  \n",
       "1048570         -73.976387         40.755604                  N            207  \n",
       "1048571         -73.957039         40.712387                  N            740  \n",
       "1048572         -73.998360         40.733360                  N            605  \n",
       "1048573         -74.004250         40.707470                  N            287  \n",
       "1048574         -74.005585         40.711521                  N           1169  \n",
       "\n",
       "[1048575 rows x 11 columns]"
      ]
     },
     "execution_count": 5,
     "metadata": {},
     "output_type": "execute_result"
    }
   ],
   "source": [
    "pd_data = pd.read_csv('./files/train.csv')\n",
    "pd_data"
   ]
  },
  {
   "cell_type": "code",
   "execution_count": 6,
   "id": "8fe84d1e",
   "metadata": {},
   "outputs": [
    {
     "name": "stdout",
     "output_type": "stream",
     "text": [
      "<class 'pandas.core.frame.DataFrame'>\n",
      "RangeIndex: 1048575 entries, 0 to 1048574\n",
      "Data columns (total 11 columns):\n",
      " #   Column              Non-Null Count    Dtype  \n",
      "---  ------              --------------    -----  \n",
      " 0   id                  1048575 non-null  object \n",
      " 1   vendor_id           1048575 non-null  int64  \n",
      " 2   pickup_datetime     1048575 non-null  object \n",
      " 3   dropoff_datetime    1048575 non-null  object \n",
      " 4   passenger_count     1048575 non-null  int64  \n",
      " 5   pickup_longitude    1048575 non-null  float64\n",
      " 6   pickup_latitude     1048575 non-null  float64\n",
      " 7   dropoff_longitude   1048575 non-null  float64\n",
      " 8   dropoff_latitude    1048575 non-null  float64\n",
      " 9   store_and_fwd_flag  1048575 non-null  object \n",
      " 10  trip_duration       1048575 non-null  int64  \n",
      "dtypes: float64(4), int64(3), object(4)\n",
      "memory usage: 88.0+ MB\n"
     ]
    }
   ],
   "source": [
    "pd_data.info()"
   ]
  },
  {
   "cell_type": "code",
   "execution_count": 7,
   "id": "72c2f7e3",
   "metadata": {},
   "outputs": [],
   "source": [
    "x = pd_data[['pickup_latitude', 'dropoff_latitude']]"
   ]
  },
  {
   "cell_type": "code",
   "execution_count": 8,
   "id": "75b8712c",
   "metadata": {},
   "outputs": [],
   "source": [
    "y = pd_data[['trip_duration']]"
   ]
  },
  {
   "cell_type": "code",
   "execution_count": 9,
   "id": "110e3deb",
   "metadata": {},
   "outputs": [
    {
     "data": {
      "text/plain": [
       "((1048575, 2), (1048575, 1))"
      ]
     },
     "execution_count": 9,
     "metadata": {},
     "output_type": "execute_result"
    }
   ],
   "source": [
    "x.shape, y.shape"
   ]
  },
  {
   "cell_type": "code",
   "execution_count": 10,
   "id": "823edfe6",
   "metadata": {},
   "outputs": [],
   "source": [
    "from sklearn.model_selection import train_test_split"
   ]
  },
  {
   "cell_type": "code",
   "execution_count": 12,
   "id": "f73e7791",
   "metadata": {},
   "outputs": [
    {
     "data": {
      "text/plain": [
       "((786431, 2), (262144, 2), (786431, 1), (262144, 1))"
      ]
     },
     "execution_count": 12,
     "metadata": {},
     "output_type": "execute_result"
    }
   ],
   "source": [
    "X_train, X_test, Y_train, Y_test = train_test_split(x,y)\n",
    "X_train.shape, X_test.shape, Y_train.shape, Y_test.shape"
   ]
  },
  {
   "cell_type": "code",
   "execution_count": 13,
   "id": "709b40d0",
   "metadata": {},
   "outputs": [],
   "source": [
    "from sklearn.linear_model import LinearRegression"
   ]
  },
  {
   "cell_type": "code",
   "execution_count": 14,
   "id": "4b7a42d2",
   "metadata": {},
   "outputs": [],
   "source": [
    "lr = LinearRegression"
   ]
  },
  {
   "cell_type": "code",
   "execution_count": 18,
   "id": "ad81182a",
   "metadata": {},
   "outputs": [
    {
     "ename": "TypeError",
     "evalue": "fit() missing 1 required positional argument: 'y'",
     "output_type": "error",
     "traceback": [
      "\u001b[1;31m---------------------------------------------------------------------------\u001b[0m",
      "\u001b[1;31mTypeError\u001b[0m                                 Traceback (most recent call last)",
      "\u001b[1;32m<ipython-input-18-ac63aa21da7e>\u001b[0m in \u001b[0;36m<module>\u001b[1;34m\u001b[0m\n\u001b[1;32m----> 1\u001b[1;33m \u001b[0mlr\u001b[0m\u001b[1;33m.\u001b[0m\u001b[0mfit\u001b[0m\u001b[1;33m(\u001b[0m\u001b[0mX_train\u001b[0m\u001b[1;33m,\u001b[0m\u001b[0mY_train\u001b[0m\u001b[1;33m)\u001b[0m\u001b[1;33m\u001b[0m\u001b[0m\n\u001b[0m",
      "\u001b[1;31mTypeError\u001b[0m: fit() missing 1 required positional argument: 'y'"
     ]
    }
   ],
   "source": [
    "lr.fit(X_train,Y_train)"
   ]
  },
  {
   "cell_type": "code",
   "execution_count": null,
   "id": "cd22c5a9",
   "metadata": {},
   "outputs": [],
   "source": []
  }
 ],
 "metadata": {
  "kernelspec": {
   "display_name": "Python 3",
   "language": "python",
   "name": "python3"
  },
  "language_info": {
   "codemirror_mode": {
    "name": "ipython",
    "version": 3
   },
   "file_extension": ".py",
   "mimetype": "text/x-python",
   "name": "python",
   "nbconvert_exporter": "python",
   "pygments_lexer": "ipython3",
   "version": "3.6.4"
  }
 },
 "nbformat": 4,
 "nbformat_minor": 5
}
