{
  "nbformat": 4,
  "nbformat_minor": 0,
  "metadata": {
    "colab": {
      "name": "Untitled1.ipynb",
      "provenance": [],
      "authorship_tag": "ABX9TyMdQbVpn2jvL/x4ClE1tVNN",
      "include_colab_link": true
    },
    "kernelspec": {
      "name": "python3",
      "display_name": "Python 3"
    },
    "language_info": {
      "name": "python"
    }
  },
  "cells": [
    {
      "cell_type": "markdown",
      "metadata": {
        "id": "view-in-github",
        "colab_type": "text"
      },
      "source": [
        "<a href=\"https://colab.research.google.com/github/victoria2012/test_machinelearning/blob/master/wholesalecustomers_kmeans.ipynb\" target=\"_parent\"><img src=\"https://colab.research.google.com/assets/colab-badge.svg\" alt=\"Open In Colab\"/></a>"
      ]
    },
    {
      "cell_type": "code",
      "metadata": {
        "colab": {
          "base_uri": "https://localhost:8080/"
        },
        "id": "jdKXHUpUeJRL",
        "outputId": "ae0be2d2-475e-43aa-aaf5-860f9ea432c0"
      },
      "source": [
        "!ls"
      ],
      "execution_count": 26,
      "outputs": [
        {
          "output_type": "stream",
          "text": [
            "sample_data  Wholesale_customers_data.csv\n"
          ],
          "name": "stdout"
        }
      ]
    },
    {
      "cell_type": "code",
      "metadata": {
        "colab": {
          "base_uri": "https://localhost:8080/"
        },
        "id": "ddXC99wofYIK",
        "outputId": "f091df84-dddb-41c3-800b-74e431c730f0"
      },
      "source": [
        "!ls -l                   # 맨 앞의 d는 폴더라는 뜻"
      ],
      "execution_count": 27,
      "outputs": [
        {
          "output_type": "stream",
          "text": [
            "total 20\n",
            "drwxr-xr-x 1 root root  4096 Jun 15 13:37 sample_data\n",
            "-rw-r--r-- 1 root root 15021 Jul  2 04:46 Wholesale_customers_data.csv\n"
          ],
          "name": "stdout"
        }
      ]
    },
    {
      "cell_type": "code",
      "metadata": {
        "colab": {
          "base_uri": "https://localhost:8080/"
        },
        "id": "cIvZ5EehfhEw",
        "outputId": "17b1ca65-3996-4c07-f32a-36d243ad480a"
      },
      "source": [
        "!pwd"
      ],
      "execution_count": 28,
      "outputs": [
        {
          "output_type": "stream",
          "text": [
            "/content\n"
          ],
          "name": "stdout"
        }
      ]
    },
    {
      "cell_type": "code",
      "metadata": {
        "colab": {
          "base_uri": "https://localhost:8080/"
        },
        "id": "_s4pRLomfyX_",
        "outputId": "a0109a64-2ad9-4b83-897e-ff0db5833ee5"
      },
      "source": [
        "!ls -l ./sample_data       # 맨 앞의 -은 파일이라는 뜻"
      ],
      "execution_count": 29,
      "outputs": [
        {
          "output_type": "stream",
          "text": [
            "total 55504\n",
            "-rwxr-xr-x 1 root root     1697 Jan  1  2000 anscombe.json\n",
            "-rw-r--r-- 1 root root   301141 Jun 15 13:37 california_housing_test.csv\n",
            "-rw-r--r-- 1 root root  1706430 Jun 15 13:37 california_housing_train.csv\n",
            "-rw-r--r-- 1 root root 18289443 Jun 15 13:37 mnist_test.csv\n",
            "-rw-r--r-- 1 root root 36523880 Jun 15 13:37 mnist_train_small.csv\n",
            "-rwxr-xr-x 1 root root      930 Jan  1  2000 README.md\n"
          ],
          "name": "stdout"
        }
      ]
    },
    {
      "cell_type": "code",
      "metadata": {
        "colab": {
          "base_uri": "https://localhost:8080/"
        },
        "id": "UgzjwvIEguJY",
        "outputId": "e1a19887-ea8c-4724-b97c-753785a182b1"
      },
      "source": [
        "!ls -l ./Wholesale_customers_data.csv"
      ],
      "execution_count": 30,
      "outputs": [
        {
          "output_type": "stream",
          "text": [
            "-rw-r--r-- 1 root root 15021 Jul  2 04:46 ./Wholesale_customers_data.csv\n"
          ],
          "name": "stdout"
        }
      ]
    },
    {
      "cell_type": "code",
      "metadata": {
        "id": "FA0bUuuiinrv"
      },
      "source": [
        "import pandas as pd"
      ],
      "execution_count": 31,
      "outputs": []
    },
    {
      "cell_type": "code",
      "metadata": {
        "colab": {
          "base_uri": "https://localhost:8080/"
        },
        "id": "Cv3ALY7zi9rW",
        "outputId": "c4155a5c-d3db-436d-8a9a-811b1f20bfbe"
      },
      "source": [
        "df = pd.read_csv('./Wholesale_customers_data.csv')\n",
        "df.info()"
      ],
      "execution_count": 32,
      "outputs": [
        {
          "output_type": "stream",
          "text": [
            "<class 'pandas.core.frame.DataFrame'>\n",
            "RangeIndex: 440 entries, 0 to 439\n",
            "Data columns (total 8 columns):\n",
            " #   Column            Non-Null Count  Dtype\n",
            "---  ------            --------------  -----\n",
            " 0   Channel           440 non-null    int64\n",
            " 1   Region            440 non-null    int64\n",
            " 2   Fresh             440 non-null    int64\n",
            " 3   Milk              440 non-null    int64\n",
            " 4   Grocery           440 non-null    int64\n",
            " 5   Frozen            440 non-null    int64\n",
            " 6   Detergents_Paper  440 non-null    int64\n",
            " 7   Delicassen        440 non-null    int64\n",
            "dtypes: int64(8)\n",
            "memory usage: 27.6 KB\n"
          ],
          "name": "stdout"
        }
      ]
    },
    {
      "cell_type": "code",
      "metadata": {
        "id": "2-vsquclrbPF"
      },
      "source": [
        "X = df.iloc[:,:]"
      ],
      "execution_count": 33,
      "outputs": []
    },
    {
      "cell_type": "code",
      "metadata": {
        "colab": {
          "base_uri": "https://localhost:8080/"
        },
        "id": "6wY4rnausR4i",
        "outputId": "b343a5bc-8701-49e6-f66b-51da4a10c666"
      },
      "source": [
        "X.shape"
      ],
      "execution_count": 34,
      "outputs": [
        {
          "output_type": "execute_result",
          "data": {
            "text/plain": [
              "(440, 8)"
            ]
          },
          "metadata": {
            "tags": []
          },
          "execution_count": 34
        }
      ]
    },
    {
      "cell_type": "code",
      "metadata": {
        "colab": {
          "base_uri": "https://localhost:8080/"
        },
        "id": "_qQ9GKUOsVWu",
        "outputId": "113cddc0-b676-44e9-8e63-d6b2864b68a8"
      },
      "source": [
        "from sklearn.preprocessing import StandardScaler\n",
        "scaler = StandardScaler()\n",
        "scaler.fit(X)\n",
        "X = scaler.transform(X)\n",
        "X"
      ],
      "execution_count": 37,
      "outputs": [
        {
          "output_type": "execute_result",
          "data": {
            "text/plain": [
              "array([[ 1.44865163,  0.59066829,  0.05293319, ..., -0.58936716,\n",
              "        -0.04356873, -0.06633906],\n",
              "       [ 1.44865163,  0.59066829, -0.39130197, ..., -0.27013618,\n",
              "         0.08640684,  0.08915105],\n",
              "       [ 1.44865163,  0.59066829, -0.44702926, ..., -0.13753572,\n",
              "         0.13323164,  2.24329255],\n",
              "       ...,\n",
              "       [ 1.44865163,  0.59066829,  0.20032554, ..., -0.54337975,\n",
              "         2.51121768,  0.12145607],\n",
              "       [-0.69029709,  0.59066829, -0.13538389, ..., -0.41944059,\n",
              "        -0.56977032,  0.21304614],\n",
              "       [-0.69029709,  0.59066829, -0.72930698, ..., -0.62009417,\n",
              "        -0.50488752, -0.52286938]])"
            ]
          },
          "metadata": {
            "tags": []
          },
          "execution_count": 37
        }
      ]
    },
    {
      "cell_type": "code",
      "metadata": {
        "id": "xjrfQ_CwspRl"
      },
      "source": [
        "from sklearn import cluster\n",
        "kmeans = cluster.KMeans(n_clusters=5)"
      ],
      "execution_count": 38,
      "outputs": []
    },
    {
      "cell_type": "code",
      "metadata": {
        "colab": {
          "base_uri": "https://localhost:8080/"
        },
        "id": "BCIdbmbAuncr",
        "outputId": "72829bfb-86a1-492e-b3bb-3867b2e0264d"
      },
      "source": [
        "kmeans.fit(X)"
      ],
      "execution_count": 39,
      "outputs": [
        {
          "output_type": "execute_result",
          "data": {
            "text/plain": [
              "KMeans(algorithm='auto', copy_x=True, init='k-means++', max_iter=300,\n",
              "       n_clusters=5, n_init=10, n_jobs=None, precompute_distances='auto',\n",
              "       random_state=None, tol=0.0001, verbose=0)"
            ]
          },
          "metadata": {
            "tags": []
          },
          "execution_count": 39
        }
      ]
    },
    {
      "cell_type": "code",
      "metadata": {
        "colab": {
          "base_uri": "https://localhost:8080/"
        },
        "id": "E5Z1oNDZuu9k",
        "outputId": "4ce70409-a5ff-48f5-f5b1-6da1b74408d9"
      },
      "source": [
        "kmeans.labels_"
      ],
      "execution_count": 40,
      "outputs": [
        {
          "output_type": "execute_result",
          "data": {
            "text/plain": [
              "array([1, 1, 1, 0, 1, 1, 1, 1, 0, 1, 1, 1, 1, 1, 1, 0, 1, 0, 1, 0, 1, 0,\n",
              "       0, 2, 1, 1, 0, 0, 1, 0, 0, 0, 0, 0, 0, 1, 0, 1, 1, 0, 0, 0, 1, 1,\n",
              "       1, 1, 1, 2, 1, 1, 0, 0, 1, 1, 0, 0, 2, 1, 0, 0, 1, 2, 1, 1, 0, 2,\n",
              "       0, 1, 0, 0, 0, 0, 0, 1, 1, 0, 0, 1, 0, 0, 0, 1, 1, 0, 1, 2, 2, 0,\n",
              "       0, 0, 0, 0, 2, 0, 1, 0, 1, 0, 0, 0, 1, 1, 1, 0, 0, 0, 1, 1, 1, 1,\n",
              "       0, 1, 0, 0, 0, 0, 0, 0, 0, 0, 0, 0, 0, 1, 0, 0, 0, 1, 0, 0, 0, 0,\n",
              "       0, 0, 0, 0, 0, 0, 0, 0, 0, 0, 0, 0, 0, 1, 0, 0, 0, 0, 0, 0, 0, 0,\n",
              "       0, 1, 1, 0, 1, 1, 1, 0, 0, 1, 1, 1, 1, 0, 0, 0, 1, 1, 0, 1, 0, 1,\n",
              "       0, 0, 0, 0, 0, 2, 0, 3, 0, 0, 0, 0, 1, 1, 0, 0, 0, 1, 0, 0, 4, 1,\n",
              "       4, 4, 1, 1, 4, 4, 4, 1, 4, 4, 4, 1, 4, 2, 4, 4, 1, 4, 1, 4, 1, 4,\n",
              "       4, 4, 4, 4, 4, 4, 4, 4, 4, 4, 4, 4, 4, 4, 4, 4, 4, 4, 4, 4, 4, 4,\n",
              "       4, 4, 4, 1, 4, 4, 4, 4, 4, 2, 4, 4, 4, 4, 4, 4, 4, 4, 4, 4, 4, 4,\n",
              "       1, 4, 1, 4, 1, 4, 4, 4, 4, 0, 0, 0, 0, 0, 0, 1, 0, 1, 0, 0, 0, 0,\n",
              "       0, 0, 0, 0, 0, 0, 0, 1, 4, 1, 4, 1, 1, 4, 1, 1, 1, 1, 1, 1, 1, 4,\n",
              "       4, 1, 4, 4, 1, 4, 4, 1, 4, 4, 4, 1, 4, 4, 4, 4, 4, 3, 4, 4, 4, 4,\n",
              "       4, 1, 4, 2, 4, 1, 4, 4, 4, 4, 1, 1, 0, 1, 0, 0, 1, 1, 0, 1, 0, 1,\n",
              "       0, 1, 0, 0, 0, 1, 0, 0, 0, 0, 0, 0, 0, 1, 0, 0, 0, 0, 1, 0, 0, 1,\n",
              "       0, 0, 1, 0, 0, 1, 0, 0, 0, 0, 0, 0, 0, 0, 0, 0, 0, 0, 0, 0, 0, 0,\n",
              "       1, 0, 0, 0, 0, 0, 0, 0, 0, 0, 0, 1, 1, 0, 0, 0, 0, 0, 0, 1, 1, 0,\n",
              "       1, 0, 0, 1, 0, 1, 1, 0, 0, 0, 0, 0, 0, 0, 0, 0, 0, 0, 0, 1, 0, 0],\n",
              "      dtype=int32)"
            ]
          },
          "metadata": {
            "tags": []
          },
          "execution_count": 40
        }
      ]
    },
    {
      "cell_type": "code",
      "metadata": {
        "id": "iTzlaUTbvGnE"
      },
      "source": [
        "df['label'] = kmeans.labels_"
      ],
      "execution_count": 41,
      "outputs": []
    },
    {
      "cell_type": "code",
      "metadata": {
        "colab": {
          "base_uri": "https://localhost:8080/",
          "height": 419
        },
        "id": "3yrCZx14vebE",
        "outputId": "9f8ed2a8-95b1-430d-d1bb-3152ec363fbd"
      },
      "source": [
        "df"
      ],
      "execution_count": 42,
      "outputs": [
        {
          "output_type": "execute_result",
          "data": {
            "text/html": [
              "<div>\n",
              "<style scoped>\n",
              "    .dataframe tbody tr th:only-of-type {\n",
              "        vertical-align: middle;\n",
              "    }\n",
              "\n",
              "    .dataframe tbody tr th {\n",
              "        vertical-align: top;\n",
              "    }\n",
              "\n",
              "    .dataframe thead th {\n",
              "        text-align: right;\n",
              "    }\n",
              "</style>\n",
              "<table border=\"1\" class=\"dataframe\">\n",
              "  <thead>\n",
              "    <tr style=\"text-align: right;\">\n",
              "      <th></th>\n",
              "      <th>Channel</th>\n",
              "      <th>Region</th>\n",
              "      <th>Fresh</th>\n",
              "      <th>Milk</th>\n",
              "      <th>Grocery</th>\n",
              "      <th>Frozen</th>\n",
              "      <th>Detergents_Paper</th>\n",
              "      <th>Delicassen</th>\n",
              "      <th>label</th>\n",
              "    </tr>\n",
              "  </thead>\n",
              "  <tbody>\n",
              "    <tr>\n",
              "      <th>0</th>\n",
              "      <td>2</td>\n",
              "      <td>3</td>\n",
              "      <td>12669</td>\n",
              "      <td>9656</td>\n",
              "      <td>7561</td>\n",
              "      <td>214</td>\n",
              "      <td>2674</td>\n",
              "      <td>1338</td>\n",
              "      <td>1</td>\n",
              "    </tr>\n",
              "    <tr>\n",
              "      <th>1</th>\n",
              "      <td>2</td>\n",
              "      <td>3</td>\n",
              "      <td>7057</td>\n",
              "      <td>9810</td>\n",
              "      <td>9568</td>\n",
              "      <td>1762</td>\n",
              "      <td>3293</td>\n",
              "      <td>1776</td>\n",
              "      <td>1</td>\n",
              "    </tr>\n",
              "    <tr>\n",
              "      <th>2</th>\n",
              "      <td>2</td>\n",
              "      <td>3</td>\n",
              "      <td>6353</td>\n",
              "      <td>8808</td>\n",
              "      <td>7684</td>\n",
              "      <td>2405</td>\n",
              "      <td>3516</td>\n",
              "      <td>7844</td>\n",
              "      <td>1</td>\n",
              "    </tr>\n",
              "    <tr>\n",
              "      <th>3</th>\n",
              "      <td>1</td>\n",
              "      <td>3</td>\n",
              "      <td>13265</td>\n",
              "      <td>1196</td>\n",
              "      <td>4221</td>\n",
              "      <td>6404</td>\n",
              "      <td>507</td>\n",
              "      <td>1788</td>\n",
              "      <td>0</td>\n",
              "    </tr>\n",
              "    <tr>\n",
              "      <th>4</th>\n",
              "      <td>2</td>\n",
              "      <td>3</td>\n",
              "      <td>22615</td>\n",
              "      <td>5410</td>\n",
              "      <td>7198</td>\n",
              "      <td>3915</td>\n",
              "      <td>1777</td>\n",
              "      <td>5185</td>\n",
              "      <td>1</td>\n",
              "    </tr>\n",
              "    <tr>\n",
              "      <th>...</th>\n",
              "      <td>...</td>\n",
              "      <td>...</td>\n",
              "      <td>...</td>\n",
              "      <td>...</td>\n",
              "      <td>...</td>\n",
              "      <td>...</td>\n",
              "      <td>...</td>\n",
              "      <td>...</td>\n",
              "      <td>...</td>\n",
              "    </tr>\n",
              "    <tr>\n",
              "      <th>435</th>\n",
              "      <td>1</td>\n",
              "      <td>3</td>\n",
              "      <td>29703</td>\n",
              "      <td>12051</td>\n",
              "      <td>16027</td>\n",
              "      <td>13135</td>\n",
              "      <td>182</td>\n",
              "      <td>2204</td>\n",
              "      <td>0</td>\n",
              "    </tr>\n",
              "    <tr>\n",
              "      <th>436</th>\n",
              "      <td>1</td>\n",
              "      <td>3</td>\n",
              "      <td>39228</td>\n",
              "      <td>1431</td>\n",
              "      <td>764</td>\n",
              "      <td>4510</td>\n",
              "      <td>93</td>\n",
              "      <td>2346</td>\n",
              "      <td>0</td>\n",
              "    </tr>\n",
              "    <tr>\n",
              "      <th>437</th>\n",
              "      <td>2</td>\n",
              "      <td>3</td>\n",
              "      <td>14531</td>\n",
              "      <td>15488</td>\n",
              "      <td>30243</td>\n",
              "      <td>437</td>\n",
              "      <td>14841</td>\n",
              "      <td>1867</td>\n",
              "      <td>1</td>\n",
              "    </tr>\n",
              "    <tr>\n",
              "      <th>438</th>\n",
              "      <td>1</td>\n",
              "      <td>3</td>\n",
              "      <td>10290</td>\n",
              "      <td>1981</td>\n",
              "      <td>2232</td>\n",
              "      <td>1038</td>\n",
              "      <td>168</td>\n",
              "      <td>2125</td>\n",
              "      <td>0</td>\n",
              "    </tr>\n",
              "    <tr>\n",
              "      <th>439</th>\n",
              "      <td>1</td>\n",
              "      <td>3</td>\n",
              "      <td>2787</td>\n",
              "      <td>1698</td>\n",
              "      <td>2510</td>\n",
              "      <td>65</td>\n",
              "      <td>477</td>\n",
              "      <td>52</td>\n",
              "      <td>0</td>\n",
              "    </tr>\n",
              "  </tbody>\n",
              "</table>\n",
              "<p>440 rows × 9 columns</p>\n",
              "</div>"
            ],
            "text/plain": [
              "     Channel  Region  Fresh   Milk  ...  Frozen  Detergents_Paper  Delicassen  label\n",
              "0          2       3  12669   9656  ...     214              2674        1338      1\n",
              "1          2       3   7057   9810  ...    1762              3293        1776      1\n",
              "2          2       3   6353   8808  ...    2405              3516        7844      1\n",
              "3          1       3  13265   1196  ...    6404               507        1788      0\n",
              "4          2       3  22615   5410  ...    3915              1777        5185      1\n",
              "..       ...     ...    ...    ...  ...     ...               ...         ...    ...\n",
              "435        1       3  29703  12051  ...   13135               182        2204      0\n",
              "436        1       3  39228   1431  ...    4510                93        2346      0\n",
              "437        2       3  14531  15488  ...     437             14841        1867      1\n",
              "438        1       3  10290   1981  ...    1038               168        2125      0\n",
              "439        1       3   2787   1698  ...      65               477          52      0\n",
              "\n",
              "[440 rows x 9 columns]"
            ]
          },
          "metadata": {
            "tags": []
          },
          "execution_count": 42
        }
      ]
    },
    {
      "cell_type": "code",
      "metadata": {
        "colab": {
          "base_uri": "https://localhost:8080/",
          "height": 602
        },
        "id": "-a4_NRQEve50",
        "outputId": "a15c94b4-5c51-4f6d-ccc3-62d1848090b2"
      },
      "source": [
        "df.plot(kind='scatter', x = 'Grocery', y = 'Frozen', c = 'label', cmap = 'Set1', figsize = (10, 10))"
      ],
      "execution_count": 43,
      "outputs": [
        {
          "output_type": "execute_result",
          "data": {
            "text/plain": [
              "<matplotlib.axes._subplots.AxesSubplot at 0x7f3499996c50>"
            ]
          },
          "metadata": {
            "tags": []
          },
          "execution_count": 43
        },
        {
          "output_type": "display_data",
          "data": {
            "image/png": "[encoded data removed]",
            "text/plain": [
              "<Figure size 720x720 with 2 Axes>"
            ]
          },
          "metadata": {
            "tags": [],
            "needs_background": "light"
          }
        }
      ]
    },
    {
      "cell_type": "code",
      "metadata": {
        "colab": {
          "base_uri": "https://localhost:8080/"
        },
        "id": "611C-NDJxVLK",
        "outputId": "bc7c22a9-2404-48e6-fb75-db30b7e55fc2"
      },
      "source": [
        "dfx = df[~((df['label'] == 0) | (df['label'] == 4))]\n",
        "df.shape, dfx.shape"
      ],
      "execution_count": 50,
      "outputs": [
        {
          "output_type": "execute_result",
          "data": {
            "text/plain": [
              "((440, 9), (140, 9))"
            ]
          },
          "metadata": {
            "tags": []
          },
          "execution_count": 50
        }
      ]
    },
    {
      "cell_type": "code",
      "metadata": {
        "colab": {
          "base_uri": "https://localhost:8080/",
          "height": 602
        },
        "id": "eMKHtLLz2iVx",
        "outputId": "329c3d1b-a353-454a-8b72-3aa4646144d4"
      },
      "source": [
        "dfx.plot(kind='scatter', x = 'Grocery', y = 'Frozen', c = 'label', cmap = 'Set1', figsize = (10, 10))"
      ],
      "execution_count": 51,
      "outputs": [
        {
          "output_type": "execute_result",
          "data": {
            "text/plain": [
              "<matplotlib.axes._subplots.AxesSubplot at 0x7f347cfc7c90>"
            ]
          },
          "metadata": {
            "tags": []
          },
          "execution_count": 51
        },
        {
          "output_type": "display_data",
          "data": {
            "image/png": "[encoded data removed]",
            "text/plain": [
              "<Figure size 720x720 with 2 Axes>"
            ]
          },
          "metadata": {
            "tags": [],
            "needs_background": "light"
          }
        }
      ]
    },
    {
      "cell_type": "code",
      "metadata": {
        "id": "KqbkeI152_XP"
      },
      "source": [
        "df.to_excel('./wholesale.xls')"
      ],
      "execution_count": 53,
      "outputs": []
    },
    {
      "cell_type": "code",
      "metadata": {
        "id": "b8wswSid3v6j"
      },
      "source": [
        ""
      ],
      "execution_count": null,
      "outputs": []
    }
  ]
}